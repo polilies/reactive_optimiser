{
 "cells": [
  {
   "cell_type": "code",
   "execution_count": 3,
   "metadata": {},
   "outputs": [],
   "source": [
    "import pandas as pd\n",
    "import numpy as np\n",
    "import matplotlib.pyplot  as plt"
   ]
  },
  {
   "cell_type": "markdown",
   "metadata": {},
   "source": [
    "Yukarıda kutuphaneleri "
   ]
  },
  {
   "cell_type": "code",
   "execution_count": 4,
   "metadata": {},
   "outputs": [],
   "source": [
    "ay = ['ocak', 'subat', 'mart', 'nisan', 'mayis', 'haziran', 'temmuz', 'agustos', 'eylul', 'ekim', 'kasim', 'aralik'] "
   ]
  },
  {
   "cell_type": "code",
   "execution_count": 5,
   "metadata": {},
   "outputs": [],
   "source": [
    "start_month = \"ocak\""
   ]
  },
  {
   "cell_type": "code",
   "execution_count": 6,
   "metadata": {},
   "outputs": [],
   "source": [
    "_year = 2022"
   ]
  },
  {
   "cell_type": "code",
   "execution_count": 7,
   "metadata": {},
   "outputs": [],
   "source": [
    "_ay = 4"
   ]
  },
  {
   "cell_type": "code",
   "execution_count": 8,
   "metadata": {},
   "outputs": [],
   "source": [
    "df = pd.read_excel(\"bins_ham.xls\", sheet_name = \"adiyaman\")"
   ]
  },
  {
   "cell_type": "code",
   "execution_count": 9,
   "metadata": {},
   "outputs": [
    {
     "name": "stdout",
     "output_type": "stream",
     "text": [
      "                        date   Yil  Ay      act  end     cap\n",
      "9503 2022-02-01 00:00:09.005  2022   2  22197.0  0.0  3126.0\n",
      "9504 2022-02-01 01:00:09.010  2022   2  19680.0  0.0  3408.0\n",
      "9505 2022-02-01 02:00:09.015  2022   2  17959.0  0.0  3524.0\n",
      "9506 2022-02-01 03:00:09.020  2022   2  17267.0  0.0  3567.0\n",
      "9507 2022-02-01 04:00:09.025  2022   2  17001.0  0.0  3454.0\n"
     ]
    }
   ],
   "source": [
    "print(df[(df.Yil == _year) & (df.Ay == 2)].head())"
   ]
  },
  {
   "cell_type": "code",
   "execution_count": 11,
   "metadata": {},
   "outputs": [
    {
     "name": "stdout",
     "output_type": "stream",
     "text": [
      "{'aralik': 0, 'ocak': 16722977, 'subat': 11793155, 'mart': 11382718, 'nisan': 0, 'mayis': 0, 'haziran': 0, 'temmuz': 0, 'agustos': 0, 'eylul': 0, 'ekim': 0, 'kasim': 0}\n"
     ]
    }
   ],
   "source": [
    "aktif = {ay[x-1]:int(df[(df.Yil == _year) & (df.Ay == x)].act.sum()) for x in range(ay.index(start_month), len(ay)+1)} #ocaktan itibaren aliyoruz, ileriki bir ay icin range'in ilk değeri ilerletilmeli\n",
    "print(aktif)"
   ]
  },
  {
   "cell_type": "code",
   "execution_count": 12,
   "metadata": {},
   "outputs": [
    {
     "name": "stdout",
     "output_type": "stream",
     "text": [
      "12\n"
     ]
    }
   ],
   "source": [
    "enductive = {ay[x-1]:int(df[(df.Yil == _year) & (df.Ay == x)].end.sum()) for x in range(ay.index(start_month), len(ay)+1)} #ocaktan itibaren aliyoruz, ileriki bir ay icin range'in ilk değeri ilerletilmeli\n",
    "print(len(enductive))"
   ]
  },
  {
   "cell_type": "code",
   "execution_count": 13,
   "metadata": {},
   "outputs": [
    {
     "name": "stdout",
     "output_type": "stream",
     "text": [
      "12\n"
     ]
    }
   ],
   "source": [
    "capacitive = {ay[x-1]:int(df[(df.Yil == _year) & (df.Ay == x)].cap.sum()) for x in range(ay.index(start_month), len(ay)+1)} #ocaktan itibaren aliyoruz, ileriki bir ay icin range'in ilk değeri ilerletilmeli\n",
    "print(len(capacitive))"
   ]
  },
  {
   "cell_type": "code",
   "execution_count": 9,
   "metadata": {},
   "outputs": [
    {
     "data": {
      "text/plain": [
       "10"
      ]
     },
     "execution_count": 9,
     "metadata": {},
     "output_type": "execute_result"
    }
   ],
   "source": [
    "len(ay[2:])"
   ]
  },
  {
   "cell_type": "code",
   "execution_count": 14,
   "metadata": {},
   "outputs": [
    {
     "ename": "ZeroDivisionError",
     "evalue": "division by zero",
     "output_type": "error",
     "traceback": [
      "\u001b[1;31m---------------------------------------------------------------------------\u001b[0m",
      "\u001b[1;31mZeroDivisionError\u001b[0m                         Traceback (most recent call last)",
      "\u001b[1;32m<ipython-input-14-9089e33bc580>\u001b[0m in \u001b[0;36m<module>\u001b[1;34m\u001b[0m\n\u001b[1;32m----> 1\u001b[1;33m \u001b[0mend_ratio\u001b[0m \u001b[1;33m=\u001b[0m \u001b[1;33m{\u001b[0m\u001b[0may\u001b[0m\u001b[1;33m[\u001b[0m\u001b[0mx\u001b[0m\u001b[1;33m-\u001b[0m\u001b[1;36m1\u001b[0m\u001b[1;33m]\u001b[0m\u001b[1;33m:\u001b[0m \u001b[0mround\u001b[0m\u001b[1;33m(\u001b[0m\u001b[1;33m(\u001b[0m\u001b[0menductive\u001b[0m\u001b[1;33m[\u001b[0m\u001b[0may\u001b[0m\u001b[1;33m[\u001b[0m\u001b[0mx\u001b[0m\u001b[1;33m-\u001b[0m\u001b[1;36m1\u001b[0m\u001b[1;33m]\u001b[0m\u001b[1;33m]\u001b[0m\u001b[1;33m/\u001b[0m\u001b[0maktif\u001b[0m\u001b[1;33m[\u001b[0m\u001b[0may\u001b[0m\u001b[1;33m[\u001b[0m\u001b[0mx\u001b[0m\u001b[1;33m-\u001b[0m\u001b[1;36m1\u001b[0m\u001b[1;33m]\u001b[0m\u001b[1;33m]\u001b[0m\u001b[1;33m)\u001b[0m\u001b[1;33m*\u001b[0m\u001b[1;36m100\u001b[0m\u001b[1;33m,\u001b[0m\u001b[1;36m1\u001b[0m\u001b[1;33m)\u001b[0m \u001b[1;32mfor\u001b[0m \u001b[0mx\u001b[0m \u001b[1;32min\u001b[0m \u001b[0mrange\u001b[0m\u001b[1;33m(\u001b[0m\u001b[0may\u001b[0m\u001b[1;33m.\u001b[0m\u001b[0mindex\u001b[0m\u001b[1;33m(\u001b[0m\u001b[0mstart_month\u001b[0m\u001b[1;33m)\u001b[0m\u001b[1;33m,\u001b[0m \u001b[0mlen\u001b[0m\u001b[1;33m(\u001b[0m\u001b[0may\u001b[0m\u001b[1;33m)\u001b[0m\u001b[1;33m+\u001b[0m\u001b[1;36m1\u001b[0m\u001b[1;33m)\u001b[0m\u001b[1;33m}\u001b[0m \u001b[1;31m#ocaktan itibaren aliyoruz, ileriki bir ay icin range'in ilk değeri ilerletilmeli\u001b[0m\u001b[1;33m\u001b[0m\u001b[1;33m\u001b[0m\u001b[0m\n\u001b[0m\u001b[0;32m      2\u001b[0m \u001b[0mprint\u001b[0m\u001b[1;33m(\u001b[0m\u001b[0mend_ratio\u001b[0m\u001b[1;33m)\u001b[0m\u001b[1;33m\u001b[0m\u001b[1;33m\u001b[0m\u001b[0m\n\u001b[0;32m      3\u001b[0m \u001b[0mplt\u001b[0m\u001b[1;33m.\u001b[0m\u001b[0mplot\u001b[0m\u001b[1;33m(\u001b[0m\u001b[0may\u001b[0m\u001b[1;33m,\u001b[0m\u001b[0mend_ratio\u001b[0m\u001b[1;33m.\u001b[0m\u001b[0mvalues\u001b[0m\u001b[1;33m(\u001b[0m\u001b[1;33m)\u001b[0m\u001b[1;33m,\u001b[0m \u001b[1;34m'go--'\u001b[0m\u001b[1;33m,\u001b[0m \u001b[0mlinewidth\u001b[0m\u001b[1;33m=\u001b[0m\u001b[1;36m2\u001b[0m\u001b[1;33m,\u001b[0m \u001b[0mmarkersize\u001b[0m\u001b[1;33m=\u001b[0m\u001b[1;36m12\u001b[0m\u001b[1;33m)\u001b[0m \u001b[1;31m# ileriki bir aydan baslanilmasi gerekiyor ise ornegin mart icin ay[2:] seklinde y deki ay verisi de degismeli\u001b[0m\u001b[1;33m\u001b[0m\u001b[1;33m\u001b[0m\u001b[0m\n\u001b[0;32m      4\u001b[0m \u001b[0mplt\u001b[0m\u001b[1;33m.\u001b[0m\u001b[0mxlabel\u001b[0m\u001b[1;33m(\u001b[0m\u001b[1;34m\"Aylar\"\u001b[0m\u001b[1;33m)\u001b[0m\u001b[1;33m\u001b[0m\u001b[1;33m\u001b[0m\u001b[0m\n\u001b[0;32m      5\u001b[0m \u001b[0mplt\u001b[0m\u001b[1;33m.\u001b[0m\u001b[0mylabel\u001b[0m\u001b[1;33m(\u001b[0m\u001b[1;34m\"Enduktif Oran\"\u001b[0m\u001b[1;33m)\u001b[0m\u001b[1;33m\u001b[0m\u001b[1;33m\u001b[0m\u001b[0m\n",
      "\u001b[1;32m<ipython-input-14-9089e33bc580>\u001b[0m in \u001b[0;36m<dictcomp>\u001b[1;34m(.0)\u001b[0m\n\u001b[1;32m----> 1\u001b[1;33m \u001b[0mend_ratio\u001b[0m \u001b[1;33m=\u001b[0m \u001b[1;33m{\u001b[0m\u001b[0may\u001b[0m\u001b[1;33m[\u001b[0m\u001b[0mx\u001b[0m\u001b[1;33m-\u001b[0m\u001b[1;36m1\u001b[0m\u001b[1;33m]\u001b[0m\u001b[1;33m:\u001b[0m \u001b[0mround\u001b[0m\u001b[1;33m(\u001b[0m\u001b[1;33m(\u001b[0m\u001b[0menductive\u001b[0m\u001b[1;33m[\u001b[0m\u001b[0may\u001b[0m\u001b[1;33m[\u001b[0m\u001b[0mx\u001b[0m\u001b[1;33m-\u001b[0m\u001b[1;36m1\u001b[0m\u001b[1;33m]\u001b[0m\u001b[1;33m]\u001b[0m\u001b[1;33m/\u001b[0m\u001b[0maktif\u001b[0m\u001b[1;33m[\u001b[0m\u001b[0may\u001b[0m\u001b[1;33m[\u001b[0m\u001b[0mx\u001b[0m\u001b[1;33m-\u001b[0m\u001b[1;36m1\u001b[0m\u001b[1;33m]\u001b[0m\u001b[1;33m]\u001b[0m\u001b[1;33m)\u001b[0m\u001b[1;33m*\u001b[0m\u001b[1;36m100\u001b[0m\u001b[1;33m,\u001b[0m\u001b[1;36m1\u001b[0m\u001b[1;33m)\u001b[0m \u001b[1;32mfor\u001b[0m \u001b[0mx\u001b[0m \u001b[1;32min\u001b[0m \u001b[0mrange\u001b[0m\u001b[1;33m(\u001b[0m\u001b[0may\u001b[0m\u001b[1;33m.\u001b[0m\u001b[0mindex\u001b[0m\u001b[1;33m(\u001b[0m\u001b[0mstart_month\u001b[0m\u001b[1;33m)\u001b[0m\u001b[1;33m,\u001b[0m \u001b[0mlen\u001b[0m\u001b[1;33m(\u001b[0m\u001b[0may\u001b[0m\u001b[1;33m)\u001b[0m\u001b[1;33m+\u001b[0m\u001b[1;36m1\u001b[0m\u001b[1;33m)\u001b[0m\u001b[1;33m}\u001b[0m \u001b[1;31m#ocaktan itibaren aliyoruz, ileriki bir ay icin range'in ilk değeri ilerletilmeli\u001b[0m\u001b[1;33m\u001b[0m\u001b[1;33m\u001b[0m\u001b[0m\n\u001b[0m\u001b[0;32m      2\u001b[0m \u001b[0mprint\u001b[0m\u001b[1;33m(\u001b[0m\u001b[0mend_ratio\u001b[0m\u001b[1;33m)\u001b[0m\u001b[1;33m\u001b[0m\u001b[1;33m\u001b[0m\u001b[0m\n\u001b[0;32m      3\u001b[0m \u001b[0mplt\u001b[0m\u001b[1;33m.\u001b[0m\u001b[0mplot\u001b[0m\u001b[1;33m(\u001b[0m\u001b[0may\u001b[0m\u001b[1;33m,\u001b[0m\u001b[0mend_ratio\u001b[0m\u001b[1;33m.\u001b[0m\u001b[0mvalues\u001b[0m\u001b[1;33m(\u001b[0m\u001b[1;33m)\u001b[0m\u001b[1;33m,\u001b[0m \u001b[1;34m'go--'\u001b[0m\u001b[1;33m,\u001b[0m \u001b[0mlinewidth\u001b[0m\u001b[1;33m=\u001b[0m\u001b[1;36m2\u001b[0m\u001b[1;33m,\u001b[0m \u001b[0mmarkersize\u001b[0m\u001b[1;33m=\u001b[0m\u001b[1;36m12\u001b[0m\u001b[1;33m)\u001b[0m \u001b[1;31m# ileriki bir aydan baslanilmasi gerekiyor ise ornegin mart icin ay[2:] seklinde y deki ay verisi de degismeli\u001b[0m\u001b[1;33m\u001b[0m\u001b[1;33m\u001b[0m\u001b[0m\n\u001b[0;32m      4\u001b[0m \u001b[0mplt\u001b[0m\u001b[1;33m.\u001b[0m\u001b[0mxlabel\u001b[0m\u001b[1;33m(\u001b[0m\u001b[1;34m\"Aylar\"\u001b[0m\u001b[1;33m)\u001b[0m\u001b[1;33m\u001b[0m\u001b[1;33m\u001b[0m\u001b[0m\n\u001b[0;32m      5\u001b[0m \u001b[0mplt\u001b[0m\u001b[1;33m.\u001b[0m\u001b[0mylabel\u001b[0m\u001b[1;33m(\u001b[0m\u001b[1;34m\"Enduktif Oran\"\u001b[0m\u001b[1;33m)\u001b[0m\u001b[1;33m\u001b[0m\u001b[1;33m\u001b[0m\u001b[0m\n",
      "\u001b[1;31mZeroDivisionError\u001b[0m: division by zero"
     ]
    }
   ],
   "source": [
    "end_ratio = {ay[x-1]: round((enductive[ay[x-1]]/aktif[ay[x-1]])*100,1) for x in range(ay.index(start_month), len(ay)+1)} #ocaktan itibaren aliyoruz, ileriki bir ay icin range'in ilk değeri ilerletilmeli\n",
    "print(end_ratio)\n",
    "plt.plot(ay,end_ratio.values(), 'go--', linewidth=2, markersize=12) # ileriki bir aydan baslanilmasi gerekiyor ise ornegin mart icin ay[2:] seklinde y deki ay verisi de degismeli\n",
    "plt.xlabel(\"Aylar\")\n",
    "plt.ylabel(\"Enduktif Oran\")\n",
    "plt.show()"
   ]
  },
  {
   "cell_type": "code",
   "execution_count": 15,
   "metadata": {},
   "outputs": [
    {
     "ename": "ZeroDivisionError",
     "evalue": "division by zero",
     "output_type": "error",
     "traceback": [
      "\u001b[1;31m---------------------------------------------------------------------------\u001b[0m",
      "\u001b[1;31mZeroDivisionError\u001b[0m                         Traceback (most recent call last)",
      "\u001b[1;32m<ipython-input-15-1bd4feadf0e2>\u001b[0m in \u001b[0;36m<module>\u001b[1;34m\u001b[0m\n\u001b[1;32m----> 1\u001b[1;33m \u001b[0mcap_ratio\u001b[0m \u001b[1;33m=\u001b[0m \u001b[1;33m{\u001b[0m\u001b[0may\u001b[0m\u001b[1;33m[\u001b[0m\u001b[0mx\u001b[0m\u001b[1;33m-\u001b[0m\u001b[1;36m1\u001b[0m\u001b[1;33m]\u001b[0m\u001b[1;33m:\u001b[0m \u001b[0mround\u001b[0m\u001b[1;33m(\u001b[0m\u001b[1;33m(\u001b[0m\u001b[0mcapacitive\u001b[0m\u001b[1;33m[\u001b[0m\u001b[0may\u001b[0m\u001b[1;33m[\u001b[0m\u001b[0mx\u001b[0m\u001b[1;33m-\u001b[0m\u001b[1;36m1\u001b[0m\u001b[1;33m]\u001b[0m\u001b[1;33m]\u001b[0m\u001b[1;33m/\u001b[0m\u001b[0maktif\u001b[0m\u001b[1;33m[\u001b[0m\u001b[0may\u001b[0m\u001b[1;33m[\u001b[0m\u001b[0mx\u001b[0m\u001b[1;33m-\u001b[0m\u001b[1;36m1\u001b[0m\u001b[1;33m]\u001b[0m\u001b[1;33m]\u001b[0m\u001b[1;33m)\u001b[0m\u001b[1;33m*\u001b[0m\u001b[1;36m100\u001b[0m\u001b[1;33m,\u001b[0m\u001b[1;36m1\u001b[0m\u001b[1;33m)\u001b[0m \u001b[1;32mfor\u001b[0m \u001b[0mx\u001b[0m \u001b[1;32min\u001b[0m \u001b[0mrange\u001b[0m\u001b[1;33m(\u001b[0m\u001b[1;36m1\u001b[0m\u001b[1;33m,\u001b[0m \u001b[1;36m13\u001b[0m\u001b[1;33m)\u001b[0m\u001b[1;33m}\u001b[0m \u001b[1;31m#ocaktan itibaren aliyoruz, ileriki bir ay icin range'in ilk değeri ilerletilmeli\u001b[0m\u001b[1;33m\u001b[0m\u001b[1;33m\u001b[0m\u001b[0m\n\u001b[0m\u001b[0;32m      2\u001b[0m \u001b[0mprint\u001b[0m\u001b[1;33m(\u001b[0m\u001b[0mcap_ratio\u001b[0m\u001b[1;33m)\u001b[0m\u001b[1;33m\u001b[0m\u001b[1;33m\u001b[0m\u001b[0m\n\u001b[0;32m      3\u001b[0m \u001b[0mplt\u001b[0m\u001b[1;33m.\u001b[0m\u001b[0mplot\u001b[0m\u001b[1;33m(\u001b[0m\u001b[0may\u001b[0m\u001b[1;33m[\u001b[0m\u001b[1;33m:\u001b[0m\u001b[1;33m]\u001b[0m\u001b[1;33m,\u001b[0m\u001b[0mcap_ratio\u001b[0m\u001b[1;33m.\u001b[0m\u001b[0mvalues\u001b[0m\u001b[1;33m(\u001b[0m\u001b[1;33m)\u001b[0m\u001b[1;33m,\u001b[0m \u001b[1;34m'bo--'\u001b[0m\u001b[1;33m,\u001b[0m \u001b[0mlinewidth\u001b[0m\u001b[1;33m=\u001b[0m\u001b[1;36m2\u001b[0m\u001b[1;33m,\u001b[0m \u001b[0mmarkersize\u001b[0m\u001b[1;33m=\u001b[0m\u001b[1;36m12\u001b[0m\u001b[1;33m)\u001b[0m\u001b[1;33m\u001b[0m\u001b[1;33m\u001b[0m\u001b[0m\n\u001b[0;32m      4\u001b[0m \u001b[0mplt\u001b[0m\u001b[1;33m.\u001b[0m\u001b[0mxlabel\u001b[0m\u001b[1;33m(\u001b[0m\u001b[1;34m\"Aylar\"\u001b[0m\u001b[1;33m)\u001b[0m\u001b[1;33m\u001b[0m\u001b[1;33m\u001b[0m\u001b[0m\n\u001b[0;32m      5\u001b[0m \u001b[0mplt\u001b[0m\u001b[1;33m.\u001b[0m\u001b[0mylabel\u001b[0m\u001b[1;33m(\u001b[0m\u001b[1;34m\"Kapasitif Oran\"\u001b[0m\u001b[1;33m)\u001b[0m\u001b[1;33m\u001b[0m\u001b[1;33m\u001b[0m\u001b[0m\n",
      "\u001b[1;32m<ipython-input-15-1bd4feadf0e2>\u001b[0m in \u001b[0;36m<dictcomp>\u001b[1;34m(.0)\u001b[0m\n\u001b[1;32m----> 1\u001b[1;33m \u001b[0mcap_ratio\u001b[0m \u001b[1;33m=\u001b[0m \u001b[1;33m{\u001b[0m\u001b[0may\u001b[0m\u001b[1;33m[\u001b[0m\u001b[0mx\u001b[0m\u001b[1;33m-\u001b[0m\u001b[1;36m1\u001b[0m\u001b[1;33m]\u001b[0m\u001b[1;33m:\u001b[0m \u001b[0mround\u001b[0m\u001b[1;33m(\u001b[0m\u001b[1;33m(\u001b[0m\u001b[0mcapacitive\u001b[0m\u001b[1;33m[\u001b[0m\u001b[0may\u001b[0m\u001b[1;33m[\u001b[0m\u001b[0mx\u001b[0m\u001b[1;33m-\u001b[0m\u001b[1;36m1\u001b[0m\u001b[1;33m]\u001b[0m\u001b[1;33m]\u001b[0m\u001b[1;33m/\u001b[0m\u001b[0maktif\u001b[0m\u001b[1;33m[\u001b[0m\u001b[0may\u001b[0m\u001b[1;33m[\u001b[0m\u001b[0mx\u001b[0m\u001b[1;33m-\u001b[0m\u001b[1;36m1\u001b[0m\u001b[1;33m]\u001b[0m\u001b[1;33m]\u001b[0m\u001b[1;33m)\u001b[0m\u001b[1;33m*\u001b[0m\u001b[1;36m100\u001b[0m\u001b[1;33m,\u001b[0m\u001b[1;36m1\u001b[0m\u001b[1;33m)\u001b[0m \u001b[1;32mfor\u001b[0m \u001b[0mx\u001b[0m \u001b[1;32min\u001b[0m \u001b[0mrange\u001b[0m\u001b[1;33m(\u001b[0m\u001b[1;36m1\u001b[0m\u001b[1;33m,\u001b[0m \u001b[1;36m13\u001b[0m\u001b[1;33m)\u001b[0m\u001b[1;33m}\u001b[0m \u001b[1;31m#ocaktan itibaren aliyoruz, ileriki bir ay icin range'in ilk değeri ilerletilmeli\u001b[0m\u001b[1;33m\u001b[0m\u001b[1;33m\u001b[0m\u001b[0m\n\u001b[0m\u001b[0;32m      2\u001b[0m \u001b[0mprint\u001b[0m\u001b[1;33m(\u001b[0m\u001b[0mcap_ratio\u001b[0m\u001b[1;33m)\u001b[0m\u001b[1;33m\u001b[0m\u001b[1;33m\u001b[0m\u001b[0m\n\u001b[0;32m      3\u001b[0m \u001b[0mplt\u001b[0m\u001b[1;33m.\u001b[0m\u001b[0mplot\u001b[0m\u001b[1;33m(\u001b[0m\u001b[0may\u001b[0m\u001b[1;33m[\u001b[0m\u001b[1;33m:\u001b[0m\u001b[1;33m]\u001b[0m\u001b[1;33m,\u001b[0m\u001b[0mcap_ratio\u001b[0m\u001b[1;33m.\u001b[0m\u001b[0mvalues\u001b[0m\u001b[1;33m(\u001b[0m\u001b[1;33m)\u001b[0m\u001b[1;33m,\u001b[0m \u001b[1;34m'bo--'\u001b[0m\u001b[1;33m,\u001b[0m \u001b[0mlinewidth\u001b[0m\u001b[1;33m=\u001b[0m\u001b[1;36m2\u001b[0m\u001b[1;33m,\u001b[0m \u001b[0mmarkersize\u001b[0m\u001b[1;33m=\u001b[0m\u001b[1;36m12\u001b[0m\u001b[1;33m)\u001b[0m\u001b[1;33m\u001b[0m\u001b[1;33m\u001b[0m\u001b[0m\n\u001b[0;32m      4\u001b[0m \u001b[0mplt\u001b[0m\u001b[1;33m.\u001b[0m\u001b[0mxlabel\u001b[0m\u001b[1;33m(\u001b[0m\u001b[1;34m\"Aylar\"\u001b[0m\u001b[1;33m)\u001b[0m\u001b[1;33m\u001b[0m\u001b[1;33m\u001b[0m\u001b[0m\n\u001b[0;32m      5\u001b[0m \u001b[0mplt\u001b[0m\u001b[1;33m.\u001b[0m\u001b[0mylabel\u001b[0m\u001b[1;33m(\u001b[0m\u001b[1;34m\"Kapasitif Oran\"\u001b[0m\u001b[1;33m)\u001b[0m\u001b[1;33m\u001b[0m\u001b[1;33m\u001b[0m\u001b[0m\n",
      "\u001b[1;31mZeroDivisionError\u001b[0m: division by zero"
     ]
    }
   ],
   "source": [
    "cap_ratio = {ay[x-1]: round((capacitive[ay[x-1]]/aktif[ay[x-1]])*100,1) for x in range(1, 13)} #ocaktan itibaren aliyoruz, ileriki bir ay icin range'in ilk değeri ilerletilmeli\n",
    "print(cap_ratio)\n",
    "plt.plot(ay[:],cap_ratio.values(), 'bo--', linewidth=2, markersize=12)\n",
    "plt.xlabel(\"Aylar\")\n",
    "plt.ylabel(\"Kapasitif Oran\")\n",
    "plt.show()"
   ]
  },
  {
   "cell_type": "code",
   "execution_count": 16,
   "metadata": {},
   "outputs": [
    {
     "name": "stdout",
     "output_type": "stream",
     "text": [
      "744\n"
     ]
    }
   ],
   "source": [
    "print(len(df[(df.Yil == _year) & (df.Ay == 3) & (df.cap != 0)].cap))"
   ]
  },
  {
   "cell_type": "code",
   "execution_count": 17,
   "metadata": {},
   "outputs": [
    {
     "name": "stdout",
     "output_type": "stream",
     "text": [
      "1863.6000000000001\n"
     ]
    }
   ],
   "source": [
    "print(df[(df.Yil == _year) & (df.act != 0)].act.max()/100*5)"
   ]
  },
  {
   "cell_type": "markdown",
   "metadata": {
    "tags": []
   },
   "source": [
    " Alttaki satirda verilen aya ait kapasitif degerlerin maksimum ve minimum değerlerini cikaralim."
   ]
  },
  {
   "cell_type": "code",
   "execution_count": 19,
   "metadata": {},
   "outputs": [
    {
     "name": "stdout",
     "output_type": "stream",
     "text": [
      "4491.0\n",
      "70.0\n"
     ]
    }
   ],
   "source": [
    "print(df[(df.Yil == _year) & (df.Ay == 3) & (df.cap != 0)].cap.max())\n",
    "print(df[(df.Yil == _year) & (df.Ay == 3) & (df.cap != 0)].cap.min())"
   ]
  },
  {
   "cell_type": "markdown",
   "metadata": {},
   "source": [
    "Ornek olmasi adina ihtiyac duyulan optimal(ornegin %7,5 kapasitif oranina dusuren) reaktor gucunu belirlemek adina gruplandirma yapılmakta."
   ]
  },
  {
   "cell_type": "code",
   "execution_count": 21,
   "metadata": {},
   "outputs": [
    {
     "data": {
      "image/png": "[encoded data removed]",
      "text/plain": [
       "<Figure size 432x288 with 1 Axes>"
      ]
     },
     "metadata": {
      "needs_background": "light"
     },
     "output_type": "display_data"
    }
   ],
   "source": [
    "_ = plt.hist(df[(df.Yil == _year) & (df.Ay == 3) & (df.cap != 0)].cap, bins = 5)\n",
    "_ = plt.xlabel('Groups')\n",
    "_ = plt.ylabel('Enductive Power Total')\n",
    "plt.show()"
   ]
  },
  {
   "cell_type": "markdown",
   "metadata": {},
   "source": [
    "ortada bariz sekilde gorunen kapasitif yukun ortalaması ve buyuklugunu kontrol edelim ki buna karsilik bir reaktor ekledigimizde yeni oranin ne olacagina bakalım."
   ]
  },
  {
   "cell_type": "code",
   "execution_count": 23,
   "metadata": {},
   "outputs": [
    {
     "data": {
      "text/plain": [
       "1272"
      ]
     },
     "execution_count": 23,
     "metadata": {},
     "output_type": "execute_result"
    }
   ],
   "source": [
    "round(df[(df.Yil == _year) & (df.Ay == 3) & (df.cap != 0)].cap[df[(df.Yil == _year) & (df.Ay == 3) & (df.cap != 0)].cap.between(980,1470)].mean())"
   ]
  },
  {
   "cell_type": "code",
   "execution_count": 24,
   "metadata": {},
   "outputs": [
    {
     "data": {
      "text/plain": [
       "1272"
      ]
     },
     "execution_count": 24,
     "metadata": {},
     "output_type": "execute_result"
    }
   ],
   "source": [
    "round(df[(df.Yil == _year) & (df.Ay == 3) & (df.cap != 0)].cap[df[(df.Yil == _year) & (df.Ay == 3) & (df.cap != 0)].cap.between(980,1470)].mean())"
   ]
  },
  {
   "cell_type": "markdown",
   "metadata": {},
   "source": [
    "hangi ayda ne kadar aktif reaktif tuketimi ya da oran gerceklesmis bunu kaydedecek olursak."
   ]
  },
  {
   "cell_type": "markdown",
   "metadata": {},
   "source": [
    "belirledigimiz gucteki reaktorun ilgili kapasitif degerlerinden cikardigimizda enduktif ya da kapasitif tarafta ne gibi degisiklikler olduguna bakalim."
   ]
  },
  {
   "cell_type": "code",
   "execution_count": 25,
   "metadata": {},
   "outputs": [
    {
     "data": {
      "text/plain": [
       "12"
      ]
     },
     "execution_count": 25,
     "metadata": {},
     "output_type": "execute_result"
    }
   ],
   "source": [
    "len(enductive)"
   ]
  },
  {
   "cell_type": "markdown",
   "metadata": {},
   "source": [
    "her girdi verisinde calismasi icin veri tablosunun bir sabit sablonunun olmasi gerekmakte. Ornegin;\n",
    "Tarih, Yil, Ay, aktif, End, Cap kolonlari gibi. sanirim reaktif hesaplari icin bu veriler yeterli olacaktir. Not: afsin_a_cap yalnizca Cap (kolon basligi) olacak sekilde guncellenmeli"
   ]
  },
  {
   "cell_type": "code",
   "execution_count": 26,
   "metadata": {},
   "outputs": [],
   "source": [
    "#ay, Yil, reaktor_gucu ve serit aktif, kapasitif,induktif verilerini iceren dataframe kabul eder.\n",
    "def sabit_reaktor_anahtarlamali(yil, ay, reaktor_gucu, tolerance, df):\n",
    "    extracted = []\n",
    "    cap = df[(df.Yil == yil) & (df.Ay == ay)].cap.tolist()\n",
    "    act = df[(df.Yil == yil) & (df.Ay == ay)].act.tolist()\n",
    "    end = df[(df.Yil == yil) & (df.Ay == ay)].end.tolist()\n",
    "    total_a = 0\n",
    "    total_c = 0\n",
    "    total_e = 0\n",
    "    instant_end = 0\n",
    "    switching = []\n",
    "    for c, a, e in zip(cap,act,end):\n",
    "        total_a += a\n",
    "        \n",
    "        if c > reaktor_gucu:\n",
    "            extracted.append(c-reaktor_gucu)\n",
    "            switching.append(1)\n",
    "            total_c += (c-reaktor_gucu)\n",
    "            total_e += e\n",
    "            \n",
    "        elif 0 < c <= reaktor_gucu:\n",
    "            \n",
    "            #total_e 'yi takip etmek belkide yeterli olabilir.\n",
    "            if ((total_e/total_a*100) < 20) and (a > 0):\n",
    "                instant_end = e + abs(c-reaktor_gucu) #before switch on the reactor!\n",
    "                \n",
    "                if (instant_end/a*100) < (20-tolerance):\n",
    "                    #print(round(instant_end/a*100),2)                   \n",
    "                    extracted.append(c-reaktor_gucu)\n",
    "                    switching.append(1)\n",
    "                    total_e += (e + abs(c-reaktor_gucu))\n",
    "                    instant_end = 0\n",
    "                else:\n",
    "                    extracted.append(c) #reaktor devreden cikmistir.Yalnizca kapasitif kalir\n",
    "                    total_e += e\n",
    "                    total_c += c\n",
    "                    instant_end = 0\n",
    "                    switching.append(0)\n",
    "                    \n",
    "            else:\n",
    "                extracted.append(c)\n",
    "                total_e += e\n",
    "                total_c += c\n",
    "                switching.append(0)\n",
    "                \n",
    "        else:\n",
    "            #reaktor devre disi kalmali ve end ve cap degerleri oldugu gibi alinmali\n",
    "            extracted.append(0)\n",
    "            total_e += e\n",
    "            total_c += c\n",
    "            switching.append(0)\n",
    "    #we return the profile of the last reaktifs, old end. ratio, new cap ratio, new end ratio and switchings\n",
    "    try:\n",
    "        _e = (total_e/total_a*100)\n",
    "    except ZeroDivisionError:\n",
    "        _e = 0\n",
    "    try:\n",
    "        _c = (total_c/total_a*100)\n",
    "    except ZeroDivisionError:\n",
    "        _c = 0\n",
    "    try:\n",
    "        _old_e = round(sum(end)/sum(act)*100,2)\n",
    "    except ZeroDivisionError:\n",
    "        _old_e = 0\n",
    "    \n",
    "    return extracted, _e, _c, _old_e, switching"
   ]
  },
  {
   "cell_type": "code",
   "execution_count": 27,
   "metadata": {},
   "outputs": [],
   "source": [
    "def cb_switch_count(switchings):\n",
    "    cb_switches = [1 if x!=switchings[ind-1] else 0 for ind, x in enumerate(switchings)]\n",
    "    return sum(cb_switches)"
   ]
  },
  {
   "cell_type": "code",
   "execution_count": 28,
   "metadata": {},
   "outputs": [
    {
     "data": {
      "text/html": [
       "<div>\n",
       "<style scoped>\n",
       "    .dataframe tbody tr th:only-of-type {\n",
       "        vertical-align: middle;\n",
       "    }\n",
       "\n",
       "    .dataframe tbody tr th {\n",
       "        vertical-align: top;\n",
       "    }\n",
       "\n",
       "    .dataframe thead th {\n",
       "        text-align: right;\n",
       "    }\n",
       "</style>\n",
       "<table border=\"1\" class=\"dataframe\">\n",
       "  <thead>\n",
       "    <tr style=\"text-align: right;\">\n",
       "      <th></th>\n",
       "      <th>date</th>\n",
       "      <th>Yil</th>\n",
       "      <th>Ay</th>\n",
       "      <th>act</th>\n",
       "      <th>end</th>\n",
       "      <th>cap</th>\n",
       "    </tr>\n",
       "  </thead>\n",
       "  <tbody>\n",
       "  </tbody>\n",
       "</table>\n",
       "</div>"
      ],
      "text/plain": [
       "Empty DataFrame\n",
       "Columns: [date, Yil, Ay, act, end, cap]\n",
       "Index: []"
      ]
     },
     "execution_count": 28,
     "metadata": {},
     "output_type": "execute_result"
    }
   ],
   "source": [
    "df[(df.Yil == _year) & (df.Ay == 3) & (df.act == 0)]"
   ]
  },
  {
   "cell_type": "code",
   "execution_count": 31,
   "metadata": {},
   "outputs": [
    {
     "name": "stdout",
     "output_type": "stream",
     "text": [
      "744\n",
      "Ay Icindeki Anahtarlama : 8\n",
      "Enductive Ratio After Comp: 0.73\n",
      "Capacitive Ratio After Comp : 3.42\n",
      "Real End Ratio:  0.0\n"
     ]
    }
   ],
   "source": [
    "df2 = pd.DataFrame({'with_react': [],'active': [], 'end': [], 'cap': []})\n",
    "df2['with_react'], ratio_e, ratio_c, ratio_base, switches = sabit_reaktor_anahtarlamali(yil = _year, ay = 3, reaktor_gucu = 2000, \n",
    "                                                                                        tolerance = 5, df = df)\n",
    "#df2['active'] = df[(df.Yil == _year) & (df.Ay == _ay)].act.tolist()\n",
    "#df2['end'] = df[(df.Yil == _year) & (df.Ay == _ay)].end.tolist()\n",
    "#df2['cap'] = df[(df.Yil == _year) & (df.Ay == _ay)].cap.tolist()\n",
    "print(len(df2.with_react))\n",
    "#print(switches)\n",
    "print(\"Ay Icindeki Anahtarlama :\",cb_switch_count(switches))\n",
    "print(\"Enductive Ratio After Comp:\",round(ratio_e,2))\n",
    "print(\"Capacitive Ratio After Comp :\",round(ratio_c,2))\n",
    "print(\"Real End Ratio: \",ratio_base)"
   ]
  },
  {
   "cell_type": "code",
   "execution_count": 32,
   "metadata": {},
   "outputs": [],
   "source": [
    "#Reaktorun kontrolsuzce ay boyunca devrede kalması durumunda olusan oranları veren fonksiyon (df icinde gerekli degerler mevcut.)\n",
    "def sabit_reaktor(yil, ay, reaktor_gucu,df):\n",
    "    #extracted = []\n",
    "    cap = df[(df.Yil == yil) & (df.Ay == ay)].cap.tolist()\n",
    "    act = df[(df.Yil == yil) & (df.Ay == ay)].act.tolist()\n",
    "    end = df[(df.Yil == yil) & (df.Ay == ay)].end.tolist()\n",
    "    total_a = 0\n",
    "    total_c = 0\n",
    "    total_e = 0\n",
    "    instant_end = 0\n",
    "    #switching = []\n",
    "    for c, a, e in zip(cap,act,end):\n",
    "        total_a += a\n",
    "        \n",
    "        if c > reaktor_gucu:\n",
    "            #extracted.append(c-reaktor_gucu)            \n",
    "            total_c += (c-reaktor_gucu)\n",
    "            total_e += e\n",
    "            \n",
    "        elif c <= reaktor_gucu:\n",
    "            #extracted.append(c-reaktor_gucu)            \n",
    "            total_e += (e + abs(c-reaktor_gucu))            \n",
    "        \n",
    "        else:\n",
    "            #reaktor devre disi kalmali ve end ve cap degerleri oldugu gibi alinmali\n",
    "            #extracted.append(0)\n",
    "            total_e += e\n",
    "            total_c += c\n",
    "    #we return the profile of the last reaktifs, old end. ratio, new cap ratio, new end ratio and switchings        \n",
    "    return (total_e/total_a*100), (total_c/total_a*100), round(sum(end)/sum(act)*100,2)"
   ]
  },
  {
   "cell_type": "code",
   "execution_count": 33,
   "metadata": {},
   "outputs": [
    {
     "name": "stdout",
     "output_type": "stream",
     "text": [
      "Enductive Ratio After Comp: 0.83\n",
      "Capacitive Ratio After Comp : 3.34\n",
      "Real End Ratio:  0.0\n"
     ]
    }
   ],
   "source": [
    "#df2 = pd.DataFrame({'with_react': [],'active': [], 'end': [], 'cap': []})\n",
    "ratio_e, ratio_c, ratio_base = sabit_reaktor(yil = _year, ay = 3, reaktor_gucu = 2000, df = df)\n",
    "print(\"Enductive Ratio After Comp:\",round(ratio_e,2))\n",
    "print(\"Capacitive Ratio After Comp :\",round(ratio_c,2))\n",
    "print(\"Real End Ratio: \",ratio_base)"
   ]
  },
  {
   "cell_type": "code",
   "execution_count": 32,
   "metadata": {},
   "outputs": [
    {
     "name": "stderr",
     "output_type": "stream",
     "text": [
      "<ipython-input-32-73220513c024>:1: RuntimeWarning: invalid value encountered in double_scalars\n",
      "  round(df2['end'].sum()/df2['active'].sum()*100)\n"
     ]
    },
    {
     "ename": "ValueError",
     "evalue": "cannot convert float NaN to integer",
     "output_type": "error",
     "traceback": [
      "\u001b[1;31m---------------------------------------------------------------------------\u001b[0m",
      "\u001b[1;31mValueError\u001b[0m                                Traceback (most recent call last)",
      "\u001b[1;32m<ipython-input-32-73220513c024>\u001b[0m in \u001b[0;36m<module>\u001b[1;34m\u001b[0m\n\u001b[1;32m----> 1\u001b[1;33m \u001b[0mround\u001b[0m\u001b[1;33m(\u001b[0m\u001b[0mdf2\u001b[0m\u001b[1;33m[\u001b[0m\u001b[1;34m'end'\u001b[0m\u001b[1;33m]\u001b[0m\u001b[1;33m.\u001b[0m\u001b[0msum\u001b[0m\u001b[1;33m(\u001b[0m\u001b[1;33m)\u001b[0m\u001b[1;33m/\u001b[0m\u001b[0mdf2\u001b[0m\u001b[1;33m[\u001b[0m\u001b[1;34m'active'\u001b[0m\u001b[1;33m]\u001b[0m\u001b[1;33m.\u001b[0m\u001b[0msum\u001b[0m\u001b[1;33m(\u001b[0m\u001b[1;33m)\u001b[0m\u001b[1;33m*\u001b[0m\u001b[1;36m100\u001b[0m\u001b[1;33m)\u001b[0m\u001b[1;33m\u001b[0m\u001b[1;33m\u001b[0m\u001b[0m\n\u001b[0m",
      "\u001b[1;31mValueError\u001b[0m: cannot convert float NaN to integer"
     ]
    }
   ],
   "source": [
    "round(df2['end'].sum()/df2['active'].sum()*100)"
   ]
  },
  {
   "cell_type": "code",
   "execution_count": null,
   "metadata": {},
   "outputs": [],
   "source": [
    "#ay, Yil, kapasitor_gucu ve serit aktif, kapasitif,induktif verilerini iceren dataframe kabul eder.\n",
    "def sabit_kapasitor_hesapla(yil, ay, cap_gucu, tolerance, df):\n",
    "    extracted = []\n",
    "    cap = df[(df.Yil == yil) & (df.Ay == ay)].afsin_a_cap.tolist()\n",
    "    act = df[(df.Yil == yil) & (df.Ay == ay)].afsin_a_act.tolist()\n",
    "    end = df[(df.Yil == yil) & (df.Ay == ay)].afsin_a_end.tolist()\n",
    "    instant_cap = 0\n",
    "    cap_gucu.sort()\n",
    "    cap_gucu.reverse()\n",
    "    for capacitor in cap_gucu:\n",
    "        total_a = 0\n",
    "        total_e = 0\n",
    "        total_c = 0\n",
    "        extracted = []\n",
    "        for c, a, e in zip(cap,act,end):\n",
    "            total_a += a\n",
    "            if e > capacitor:\n",
    "                extracted.append(e-capacitor)\n",
    "                total_e += (e-capacitor)\n",
    "                total_c += c\n",
    "\n",
    "            elif 0< c <= capacitor:\n",
    "\n",
    "                if ((total_c/total_a*100) < 15) and (a > 0):\n",
    "                    instant_cap = e + abs(e-capacitor)      #before switch on the reactor!\n",
    "\n",
    "                    if (instant_cap/a*100) < (15-tolerance): #15 is the capacitive limit for panelty\n",
    "                        #print(round(instant_end/a*100),2)                   \n",
    "                        extracted.append(e-capacitor)\n",
    "                        total_c += (c + abs(e-capacitor))\n",
    "                        instant_end = 0\n",
    "                    else:\n",
    "                        extracted.append(e) #kapasitor devreden cikmistir.Yalnizca kapasitif kalir\n",
    "                        total_e += e\n",
    "                        total_c += c\n",
    "                        instant_end = 0               \n",
    "\n",
    "                else:\n",
    "                    extracted.append(e)\n",
    "                    total_e += e\n",
    "                    total_c += c\n",
    "\n",
    "            else:\n",
    "                #reaktor devre disi kalmali ve end ve cap degerleri oldugu gibi alinmali\n",
    "                extracted.append(0)\n",
    "                total_e += e\n",
    "                total_c += c\n",
    "        \n",
    "        end = [x if x>=0 else 0 for x in extracted]\n",
    "    print(total_e, total_c, total_a)    \n",
    "    return extracted, (total_e/total_a*100), (total_c/total_a*100)"
   ]
  },
  {
   "cell_type": "code",
   "execution_count": null,
   "metadata": {},
   "outputs": [],
   "source": [
    "df2 = pd.DataFrame({'with_cap': [],'active': [], 'end': [], 'cap': []})\n",
    "df2['with_cap'], ratio_e, ratio_c = sabit_kapasitor_hesapla(yil = _year, ay = 2, cap_gucu = [2400,1800,1200,600], tolerance = 5, df = df)\n",
    "df2['active'] = df[(df.Yil == 2021) & (df.Ay == 4)].afsin_a_act.tolist()\n",
    "df2['end'] = df[(df.Yil == 2021) & (df.Ay == 4)].afsin_a_end.tolist()\n",
    "df2['cap'] = df[(df.Yil == 2021) & (df.Ay == 4)].afsin_a_cap.tolist()\n",
    "print(len(df2.with_cap))"
   ]
  },
  {
   "cell_type": "code",
   "execution_count": null,
   "metadata": {},
   "outputs": [],
   "source": [
    "print('After compansation %e: ', round(ratio_e,2))\n",
    "print('After compansation %c: ', round(ratio_c,2))\n",
    "print('Before compansation %c: ', round(df2['cap'].sum()/df2['active'].sum()*100, 2))\n",
    "print('Before compansation %e: ', round(df2['end'].sum()/df2['active'].sum()*100, 2))"
   ]
  },
  {
   "cell_type": "raw",
   "metadata": {},
   "source": []
  }
 ],
 "metadata": {
  "kernelspec": {
   "display_name": "Python 3",
   "language": "python",
   "name": "python3"
  },
  "language_info": {
   "codemirror_mode": {
    "name": "ipython",
    "version": 3
   },
   "file_extension": ".py",
   "mimetype": "text/x-python",
   "name": "python",
   "nbconvert_exporter": "python",
   "pygments_lexer": "ipython3",
   "version": "3.11.1 (tags/v3.11.1:a7a450f, Dec  6 2022, 19:58:39) [MSC v.1934 64 bit (AMD64)]"
  },
  "vscode": {
   "interpreter": {
    "hash": "cc1ddabed07c7517d84beb730c85008ea5e8ba2b26950f03100cc759c1c0d227"
   }
  }
 },
 "nbformat": 4,
 "nbformat_minor": 4
}
